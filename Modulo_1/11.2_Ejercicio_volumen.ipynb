{
 "cells": [
  {
   "cell_type": "code",
   "execution_count": 1,
   "metadata": {},
   "outputs": [],
   "source": [
    "def calcular_volumen1(tipo_de_fig, **kwargs):\n",
    "\n",
    "    pi = 3.1416\n",
    "\n",
    "    if tipo_de_fig == \"Cubo\":\n",
    "        print(\"Volumen del cubo\")\n",
    "        volu = kwargs.get('Lado')**3\n",
    "        print ( f'{volu} unidades cúbicas')\n",
    "    elif tipo_de_fig == \"Prisma\":\n",
    "        print(\"Volumen del prisma\")\n",
    "        volu = (kwargs.get('Lado') * kwargs.get('Lado1') * kwargs.get('altura'))\n",
    "        print ( f'{volu} unidades cúbicas')\n",
    "    elif tipo_de_fig == \"Piramide\":\n",
    "        print(\"Volumen de pirámide\")\n",
    "        volu = (kwargs.get('Lado') * kwargs.get('Lado1') * kwargs.get('altura')) / 3\n",
    "        print ( f'{volu} unidades cúbicas')\n",
    "    elif tipo_de_fig == \"Cilindro\":\n",
    "        print(\"Volumen del cilindro\")\n",
    "        volu = pi * (kwargs.get('radio') ** 2) * kwargs.get('altura')\n",
    "        print ( f'{volu} unidades cúbicas')\n",
    "    elif tipo_de_fig == \"Cono\":\n",
    "        print(\"Volumen del Cono\")\n",
    "        volu = (pi * (kwargs.get('radio') ** 2) * kwargs.get('altura')) / 3\n",
    "        print ( f'{volu} unidades cúbicas')\n",
    "    elif tipo_de_fig == \"Esfera\":\n",
    "        print(\"Volumen de Esféra\")\n",
    "        volu = (4 * (pi * kwargs.get('radio')**3)) / 3\n",
    "        print ( f'{volu} unidades cúbicas')\n",
    "    else:\n",
    "        print(f'Esta funcion no puede calcular el volumen {tipo_de_fig}')\n"
   ]
  },
  {
   "cell_type": "code",
   "execution_count": 2,
   "metadata": {},
   "outputs": [
    {
     "name": "stdout",
     "output_type": "stream",
     "text": [
      "Volumen del Cono\n",
      "2094.3999999999996 unidades cúbicas\n"
     ]
    }
   ],
   "source": [
    "calcular_volumen1(\"Cono\", Lado = 8, Lado1 = 10, altura = 20, radio = 10)"
   ]
  }
 ],
 "metadata": {
  "kernelspec": {
   "display_name": "Diplomado",
   "language": "python",
   "name": "python3"
  },
  "language_info": {
   "codemirror_mode": {
    "name": "ipython",
    "version": 3
   },
   "file_extension": ".py",
   "mimetype": "text/x-python",
   "name": "python",
   "nbconvert_exporter": "python",
   "pygments_lexer": "ipython3",
   "version": "3.10.14"
  }
 },
 "nbformat": 4,
 "nbformat_minor": 2
}
