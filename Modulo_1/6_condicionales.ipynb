{
 "cells": [
  {
   "cell_type": "markdown",
   "metadata": {},
   "source": [
    "# Condicionales"
   ]
  },
  {
   "cell_type": "code",
   "execution_count": 21,
   "metadata": {},
   "outputs": [
    {
     "name": "stdout",
     "output_type": "stream",
     "text": [
      "Aviso por alta temperatura\n"
     ]
    }
   ],
   "source": [
    "temperatura = 40\n",
    "\n",
    "if temperatura >35:    #Si no se agregan los dos puntos no se realiza la condición y realizar el tabulado (identación) para reconocer la condición.\n",
    "    print('Aviso por alta temperatura')\n"
   ]
  },
  {
   "cell_type": "code",
   "execution_count": 22,
   "metadata": {},
   "outputs": [
    {
     "name": "stdout",
     "output_type": "stream",
     "text": [
      "Aviso por alta temperatura\n"
     ]
    }
   ],
   "source": [
    "if temperatura > 35:\n",
    "    print('Aviso por alta temperatura')\n",
    "else:\n",
    "    print('parámetros normales')"
   ]
  },
  {
   "cell_type": "code",
   "execution_count": 1,
   "metadata": {},
   "outputs": [
    {
     "name": "stdout",
     "output_type": "stream",
     "text": [
      "Alerta roja\n"
     ]
    }
   ],
   "source": [
    "temperatura = 35\n",
    "\n",
    "if temperatura < 20:\n",
    "    if temperatura < 10:\n",
    "        print('Alerta azul')\n",
    "    else:\n",
    "        print('Alerta verde')\n",
    "else:\n",
    "    if temperatura <= 30:\n",
    "        print('Alerta naranja')\n",
    "    else:\n",
    "        print('Alerta roja')"
   ]
  },
  {
   "cell_type": "code",
   "execution_count": 27,
   "metadata": {},
   "outputs": [
    {
     "name": "stdout",
     "output_type": "stream",
     "text": [
      "Alerta verde\n"
     ]
    }
   ],
   "source": [
    "temperatura = 19\n",
    "\n",
    "if temperatura < 10:\n",
    "    print('Alerta azul')\n",
    "elif temperatura < 20:\n",
    "    print('Alerta verde')\n",
    "elif temperatura <= 30:\n",
    "    print('Alerta Naranja')\n",
    "else:\n",
    "    print('Alerta roja')\n"
   ]
  }
 ],
 "metadata": {
  "kernelspec": {
   "display_name": "Diplomado",
   "language": "python",
   "name": "python3"
  },
  "language_info": {
   "codemirror_mode": {
    "name": "ipython",
    "version": 3
   },
   "file_extension": ".py",
   "mimetype": "text/x-python",
   "name": "python",
   "nbconvert_exporter": "python",
   "pygments_lexer": "ipython3",
   "version": "3.10.14"
  }
 },
 "nbformat": 4,
 "nbformat_minor": 2
}
