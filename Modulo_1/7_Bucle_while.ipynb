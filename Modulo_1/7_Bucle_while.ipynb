{
 "cells": [
  {
   "cell_type": "markdown",
   "metadata": {},
   "source": [
    "# La sentencia while"
   ]
  },
  {
   "cell_type": "code",
   "execution_count": 4,
   "metadata": {},
   "outputs": [
    {
     "name": "stdout",
     "output_type": "stream",
     "text": [
      "Hola que tal !!\n",
      "Que tenga un buen dia\n"
     ]
    }
   ],
   "source": [
    "stop_word = 's'\n",
    "while stop_word == 's':\n",
    "    print('Hola que tal !!')\n",
    "    stop_word = input('Quieres otro saludo? [s,n]')\n",
    "print('Que tenga un buen dia')"
   ]
  },
  {
   "cell_type": "code",
   "execution_count": 6,
   "metadata": {},
   "outputs": [
    {
     "name": "stdout",
     "output_type": "stream",
     "text": [
      "Hola\n"
     ]
    }
   ],
   "source": [
    "while True:\n",
    "    print('Hola')\n",
    "    break \n"
   ]
  },
  {
   "cell_type": "code",
   "execution_count": 8,
   "metadata": {},
   "outputs": [
    {
     "name": "stdout",
     "output_type": "stream",
     "text": [
      "Hola que tal !!\n",
      "Hola que tal !!\n",
      "Hola que tal !!\n",
      "Que tenga un buen dia\n"
     ]
    }
   ],
   "source": [
    "stop_word = 's'\n",
    "MAX_REP = 3\n",
    "n_rep = 0\n",
    "while stop_word == 's':\n",
    "    print('Hola que tal !!')\n",
    "    stop_word = input('Quieres otro saludo? [s,n]')\n",
    "    n_rep = n_rep + 1\n",
    "    if n_rep == MAX_REP:\n",
    "        break\n",
    "\n",
    "print('Que tenga un buen dia')"
   ]
  },
  {
   "cell_type": "code",
   "execution_count": 9,
   "metadata": {},
   "outputs": [
    {
     "name": "stdout",
     "output_type": "stream",
     "text": [
      "Hola que tal !!\n",
      "Que tenga buen día\n",
      "Hola que tal !!\n",
      "Que tenga buen día\n",
      "Hola que tal !!\n",
      "Hola que tal !!\n",
      "Que tenga buen día\n",
      "Hola que tal !!\n",
      "Que tenga buen día\n",
      "Hola que tal !!\n",
      "Que tenga buen día\n",
      "Hola que tal !!\n",
      "Que tenga buen día\n"
     ]
    }
   ],
   "source": [
    "stop_word = 's'\n",
    "MAX_REP = 3\n",
    "n_rep = 0\n",
    "while stop_word == 's':\n",
    "    print('Hola que tal !!')\n",
    "    stop_word = input('Quieres otro saludo? [s,n]')\n",
    "    n_rep += 1\n",
    "    if n_rep == MAX_REP:\n",
    "        continue\n",
    "    print('Que tenga buen día')\n"
   ]
  },
  {
   "cell_type": "markdown",
   "metadata": {},
   "source": [
    "## Operadores de asignación"
   ]
  },
  {
   "cell_type": "code",
   "execution_count": null,
   "metadata": {},
   "outputs": [],
   "source": [
    "stop_word = 's'\n",
    "MAX_REP = 3\n",
    "n_rep = 0\n",
    "while stop_word == 's':\n",
    "    print('Hola que tal !!')\n",
    "    stop_word = input('Quieres otro saludo? [s,n]')\n",
    "    n_rep += 1\n",
    "    if n_rep == MAX_REP:\n",
    "        break\n",
    "\n",
    "print('Que tenga un buen dia')"
   ]
  },
  {
   "cell_type": "code",
   "execution_count": 11,
   "metadata": {},
   "outputs": [
    {
     "name": "stdout",
     "output_type": "stream",
     "text": [
      "1\n",
      "2\n",
      "3\n",
      "4\n",
      "5\n"
     ]
    }
   ],
   "source": [
    "contador = 1\n",
    "\n",
    "while contador <= 5:\n",
    "    print(contador)\n",
    "    contador += 1\n"
   ]
  },
  {
   "cell_type": "code",
   "execution_count": null,
   "metadata": {},
   "outputs": [],
   "source": []
  }
 ],
 "metadata": {
  "kernelspec": {
   "display_name": "Diplomado",
   "language": "python",
   "name": "python3"
  },
  "language_info": {
   "codemirror_mode": {
    "name": "ipython",
    "version": 3
   },
   "file_extension": ".py",
   "mimetype": "text/x-python",
   "name": "python",
   "nbconvert_exporter": "python",
   "pygments_lexer": "ipython3",
   "version": "3.10.14"
  }
 },
 "nbformat": 4,
 "nbformat_minor": 2
}
