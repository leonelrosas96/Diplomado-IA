{
 "cells": [
  {
   "cell_type": "markdown",
   "metadata": {},
   "source": [
    "# Ejercicios"
   ]
  },
  {
   "cell_type": "markdown",
   "metadata": {},
   "source": [
    "1. Crea un diccionario con información sobre un libro (título, autor, año de publicación).\n",
    "2. Agrega una nueva clave-valor para el género del libro.\n",
    "3. Modifica el año de publicación del libro.\n",
    "4. Elimina la clave del género."
   ]
  },
  {
   "cell_type": "code",
   "execution_count": 1,
   "metadata": {},
   "outputs": [],
   "source": [
    "diccionario_ejercicio = {\n",
    "    \"titulo_libro\":\"Seras_papa\",\n",
    "    \"autor\": \"John_Pfeiffer\",\n",
    "    \"año_publicacion\":2013\n",
    "}"
   ]
  },
  {
   "cell_type": "code",
   "execution_count": 2,
   "metadata": {},
   "outputs": [
    {
     "data": {
      "text/plain": [
       "{'titulo_libro': 'Seras_papa',\n",
       " 'autor': 'John_Pfeiffer',\n",
       " 'año_publicacion': 2013}"
      ]
     },
     "execution_count": 2,
     "metadata": {},
     "output_type": "execute_result"
    }
   ],
   "source": [
    "diccionario_ejercicio"
   ]
  },
  {
   "cell_type": "code",
   "execution_count": 3,
   "metadata": {},
   "outputs": [
    {
     "data": {
      "text/plain": [
       "{'titulo_libro': 'Seras_papa',\n",
       " 'autor': 'John_Pfeiffer',\n",
       " 'año_publicacion': 2013,\n",
       " 'Genero': 'Novela'}"
      ]
     },
     "execution_count": 3,
     "metadata": {},
     "output_type": "execute_result"
    }
   ],
   "source": [
    "diccionario_ejercicio[\"Genero\"] = \"Novela\"\n",
    "diccionario_ejercicio"
   ]
  },
  {
   "cell_type": "code",
   "execution_count": 4,
   "metadata": {},
   "outputs": [
    {
     "data": {
      "text/plain": [
       "{'titulo_libro': 'Seras_papa',\n",
       " 'autor': 'John_Pfeiffer',\n",
       " 'año_publicacion': '2020',\n",
       " 'Genero': 'Novela'}"
      ]
     },
     "execution_count": 4,
     "metadata": {},
     "output_type": "execute_result"
    }
   ],
   "source": [
    "diccionario_ejercicio[\"año_publicacion\"] = \"2020\"\n",
    "diccionario_ejercicio"
   ]
  },
  {
   "cell_type": "code",
   "execution_count": 5,
   "metadata": {},
   "outputs": [
    {
     "data": {
      "text/plain": [
       "{'titulo_libro': 'Seras_papa',\n",
       " 'autor': 'John_Pfeiffer',\n",
       " 'año_publicacion': '2020'}"
      ]
     },
     "execution_count": 5,
     "metadata": {},
     "output_type": "execute_result"
    }
   ],
   "source": [
    "del diccionario_ejercicio[\"Genero\"]\n",
    "diccionario_ejercicio"
   ]
  }
 ],
 "metadata": {
  "kernelspec": {
   "display_name": "Diplomado",
   "language": "python",
   "name": "python3"
  },
  "language_info": {
   "codemirror_mode": {
    "name": "ipython",
    "version": 3
   },
   "file_extension": ".py",
   "mimetype": "text/x-python",
   "name": "python",
   "nbconvert_exporter": "python",
   "pygments_lexer": "ipython3",
   "version": "3.10.14"
  }
 },
 "nbformat": 4,
 "nbformat_minor": 2
}
