{
 "cells": [
  {
   "cell_type": "markdown",
   "metadata": {},
   "source": [
    "# Ejercicio: Encontrar las raíces de un polinomio cuadrático\n",
    "\n",
    "## Descripción\n",
    "\n",
    "Escribe una función llamada `resolver_polinomio_cuadratico` que tome los coeficientes `a`, `b` y `c` de un polinomio cuadrático y devuelva sus raíces. La función debe manejar tanto raíces reales como complejas.\n",
    "\n",
    "Un polinomio cuadrático tiene la forma:\n",
    "\n",
    "$$\n",
    "ax^2 + bx + c = 0\n",
    "$$\n",
    "\n",
    "Las raíces del polinomio se pueden encontrar utilizando la fórmula cuadrática:\n",
    "\n",
    "$$\n",
    "x = \\frac{-b \\pm \\sqrt{b^2 - 4ac}}{2a}\n",
    "$$\n",
    "\n",
    "Donde el discriminante, \\( $\\Delta$ \\), está dado por:\n",
    "\n",
    "$$\n",
    "\\Delta = b^2 - 4ac\n",
    "$$"
   ]
  },
  {
   "cell_type": "code",
   "execution_count": 1,
   "metadata": {},
   "outputs": [],
   "source": [
    "def resolver_polinomio_cuadratico(a,b,c):\n",
    "    x1 = ((- b + (b**2 - 4*a*c)** (1/2))/(2*a))\n",
    "    x2 = ((- b - (b**2 - 4*a*c)** (1/2))/(2*a))\n",
    "    forma1 = a*(x1**2) + b*x1 + c \n",
    "    forma2 = a*(x2**2) + b*x2 + c \n",
    "    discriminante = (b**2) - 4*a*c \n",
    "    \n",
    "    return x1, x2, forma1, forma2, discriminante"
   ]
  },
  {
   "cell_type": "code",
   "execution_count": 2,
   "metadata": {},
   "outputs": [
    {
     "data": {
      "text/plain": [
       "((-0.6666666666666666+1.1055415967851332j),\n",
       " (-0.6666666666666666-1.1055415967851332j),\n",
       " 0j,\n",
       " 0j,\n",
       " -44)"
      ]
     },
     "execution_count": 2,
     "metadata": {},
     "output_type": "execute_result"
    }
   ],
   "source": [
    "resolver_polinomio_cuadratico(3,4,5)"
   ]
  }
 ],
 "metadata": {
  "kernelspec": {
   "display_name": "Diplomado",
   "language": "python",
   "name": "python3"
  },
  "language_info": {
   "codemirror_mode": {
    "name": "ipython",
    "version": 3
   },
   "file_extension": ".py",
   "mimetype": "text/x-python",
   "name": "python",
   "nbconvert_exporter": "python",
   "pygments_lexer": "ipython3",
   "version": "3.10.14"
  }
 },
 "nbformat": 4,
 "nbformat_minor": 2
}
