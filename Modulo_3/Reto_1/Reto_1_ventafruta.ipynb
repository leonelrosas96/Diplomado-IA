{
 "cells": [
  {
   "cell_type": "code",
   "execution_count": 1,
   "metadata": {},
   "outputs": [],
   "source": [
    "import pandas as pd"
   ]
  },
  {
   "cell_type": "code",
   "execution_count": 2,
   "metadata": {},
   "outputs": [
    {
     "data": {
      "text/html": [
       "<div>\n",
       "<style scoped>\n",
       "    .dataframe tbody tr th:only-of-type {\n",
       "        vertical-align: middle;\n",
       "    }\n",
       "\n",
       "    .dataframe tbody tr th {\n",
       "        vertical-align: top;\n",
       "    }\n",
       "\n",
       "    .dataframe thead th {\n",
       "        text-align: right;\n",
       "    }\n",
       "</style>\n",
       "<table border=\"1\" class=\"dataframe\">\n",
       "  <thead>\n",
       "    <tr style=\"text-align: right;\">\n",
       "      <th></th>\n",
       "      <th>shop_id</th>\n",
       "      <th>item_id</th>\n",
       "      <th>item</th>\n",
       "      <th>item_name</th>\n",
       "      <th>sold</th>\n",
       "      <th>price (Rp)</th>\n",
       "      <th>city</th>\n",
       "    </tr>\n",
       "  </thead>\n",
       "  <tbody>\n",
       "    <tr>\n",
       "      <th>0</th>\n",
       "      <td>1590</td>\n",
       "      <td>3578</td>\n",
       "      <td>Apel</td>\n",
       "      <td>Apel merah</td>\n",
       "      <td>1921</td>\n",
       "      <td>22549</td>\n",
       "      <td>Kab. Bogor</td>\n",
       "    </tr>\n",
       "    <tr>\n",
       "      <th>1</th>\n",
       "      <td>1968</td>\n",
       "      <td>4327</td>\n",
       "      <td>Apel</td>\n",
       "      <td>Apel rome beauty</td>\n",
       "      <td>2077</td>\n",
       "      <td>36256</td>\n",
       "      <td>Kota Bandung</td>\n",
       "    </tr>\n",
       "    <tr>\n",
       "      <th>2</th>\n",
       "      <td>1911</td>\n",
       "      <td>2153</td>\n",
       "      <td>Apel</td>\n",
       "      <td>Apel fuji</td>\n",
       "      <td>1971</td>\n",
       "      <td>43525</td>\n",
       "      <td>Kota Malang</td>\n",
       "    </tr>\n",
       "    <tr>\n",
       "      <th>3</th>\n",
       "      <td>1579</td>\n",
       "      <td>1223</td>\n",
       "      <td>Apel</td>\n",
       "      <td>Apel manalagi</td>\n",
       "      <td>1961</td>\n",
       "      <td>38031</td>\n",
       "      <td>Jakarta Pusat</td>\n",
       "    </tr>\n",
       "    <tr>\n",
       "      <th>4</th>\n",
       "      <td>1574</td>\n",
       "      <td>4675</td>\n",
       "      <td>Apel</td>\n",
       "      <td>Apel wanglin</td>\n",
       "      <td>3239</td>\n",
       "      <td>23299</td>\n",
       "      <td>Kab. Bogor</td>\n",
       "    </tr>\n",
       "    <tr>\n",
       "      <th>...</th>\n",
       "      <td>...</td>\n",
       "      <td>...</td>\n",
       "      <td>...</td>\n",
       "      <td>...</td>\n",
       "      <td>...</td>\n",
       "      <td>...</td>\n",
       "      <td>...</td>\n",
       "    </tr>\n",
       "    <tr>\n",
       "      <th>95</th>\n",
       "      <td>2876</td>\n",
       "      <td>1467</td>\n",
       "      <td>Timun</td>\n",
       "      <td>Timun lokal</td>\n",
       "      <td>1918</td>\n",
       "      <td>10815</td>\n",
       "      <td>Kota Bandung</td>\n",
       "    </tr>\n",
       "    <tr>\n",
       "      <th>96</th>\n",
       "      <td>4787</td>\n",
       "      <td>4070</td>\n",
       "      <td>Timun</td>\n",
       "      <td>Timun lalap</td>\n",
       "      <td>4689</td>\n",
       "      <td>26227</td>\n",
       "      <td>Kota Malang</td>\n",
       "    </tr>\n",
       "    <tr>\n",
       "      <th>97</th>\n",
       "      <td>3949</td>\n",
       "      <td>1467</td>\n",
       "      <td>Timun</td>\n",
       "      <td>Timun jepang</td>\n",
       "      <td>3275</td>\n",
       "      <td>11624</td>\n",
       "      <td>Jakarta Pusat</td>\n",
       "    </tr>\n",
       "    <tr>\n",
       "      <th>98</th>\n",
       "      <td>1621</td>\n",
       "      <td>4974</td>\n",
       "      <td>Timun</td>\n",
       "      <td>Timun suri</td>\n",
       "      <td>614</td>\n",
       "      <td>18556</td>\n",
       "      <td>Kab. Bogor</td>\n",
       "    </tr>\n",
       "    <tr>\n",
       "      <th>99</th>\n",
       "      <td>2736</td>\n",
       "      <td>4267</td>\n",
       "      <td>Timun</td>\n",
       "      <td>Timun mini</td>\n",
       "      <td>3009</td>\n",
       "      <td>24209</td>\n",
       "      <td>Kota Bandung</td>\n",
       "    </tr>\n",
       "  </tbody>\n",
       "</table>\n",
       "<p>100 rows × 7 columns</p>\n",
       "</div>"
      ],
      "text/plain": [
       "    shop_id  item_id   item         item_name  sold  price (Rp)           city\n",
       "0      1590     3578   Apel       Apel merah   1921       22549     Kab. Bogor\n",
       "1      1968     4327   Apel  Apel rome beauty  2077       36256   Kota Bandung\n",
       "2      1911     2153   Apel         Apel fuji  1971       43525    Kota Malang\n",
       "3      1579     1223   Apel     Apel manalagi  1961       38031  Jakarta Pusat\n",
       "4      1574     4675   Apel      Apel wanglin  3239       23299     Kab. Bogor\n",
       "..      ...      ...    ...               ...   ...         ...            ...\n",
       "95     2876     1467  Timun       Timun lokal  1918       10815   Kota Bandung\n",
       "96     4787     4070  Timun       Timun lalap  4689       26227    Kota Malang\n",
       "97     3949     1467  Timun      Timun jepang  3275       11624  Jakarta Pusat\n",
       "98     1621     4974  Timun        Timun suri   614       18556     Kab. Bogor\n",
       "99     2736     4267  Timun        Timun mini  3009       24209   Kota Bandung\n",
       "\n",
       "[100 rows x 7 columns]"
      ]
     },
     "execution_count": 2,
     "metadata": {},
     "output_type": "execute_result"
    }
   ],
   "source": [
    "df_vent = pd.read_csv(\"Venta de frutas y veg.csv\")\n",
    "df_vent"
   ]
  },
  {
   "cell_type": "code",
   "execution_count": 3,
   "metadata": {},
   "outputs": [
    {
     "data": {
      "text/plain": [
       "pandas.core.frame.DataFrame"
      ]
     },
     "execution_count": 3,
     "metadata": {},
     "output_type": "execute_result"
    }
   ],
   "source": [
    "type(df_vent)"
   ]
  },
  {
   "cell_type": "code",
   "execution_count": 4,
   "metadata": {},
   "outputs": [
    {
     "data": {
      "text/html": [
       "<div>\n",
       "<style scoped>\n",
       "    .dataframe tbody tr th:only-of-type {\n",
       "        vertical-align: middle;\n",
       "    }\n",
       "\n",
       "    .dataframe tbody tr th {\n",
       "        vertical-align: top;\n",
       "    }\n",
       "\n",
       "    .dataframe thead th {\n",
       "        text-align: right;\n",
       "    }\n",
       "</style>\n",
       "<table border=\"1\" class=\"dataframe\">\n",
       "  <thead>\n",
       "    <tr style=\"text-align: right;\">\n",
       "      <th></th>\n",
       "      <th>shop_id</th>\n",
       "      <th>item_id</th>\n",
       "      <th>item</th>\n",
       "      <th>item_name</th>\n",
       "      <th>sold</th>\n",
       "      <th>price (Rp)</th>\n",
       "      <th>city</th>\n",
       "    </tr>\n",
       "  </thead>\n",
       "  <tbody>\n",
       "    <tr>\n",
       "      <th>0</th>\n",
       "      <td>1590</td>\n",
       "      <td>3578</td>\n",
       "      <td>Apel</td>\n",
       "      <td>Apel merah</td>\n",
       "      <td>1921</td>\n",
       "      <td>22549</td>\n",
       "      <td>Kab. Bogor</td>\n",
       "    </tr>\n",
       "    <tr>\n",
       "      <th>1</th>\n",
       "      <td>1968</td>\n",
       "      <td>4327</td>\n",
       "      <td>Apel</td>\n",
       "      <td>Apel rome beauty</td>\n",
       "      <td>2077</td>\n",
       "      <td>36256</td>\n",
       "      <td>Kota Bandung</td>\n",
       "    </tr>\n",
       "    <tr>\n",
       "      <th>2</th>\n",
       "      <td>1911</td>\n",
       "      <td>2153</td>\n",
       "      <td>Apel</td>\n",
       "      <td>Apel fuji</td>\n",
       "      <td>1971</td>\n",
       "      <td>43525</td>\n",
       "      <td>Kota Malang</td>\n",
       "    </tr>\n",
       "    <tr>\n",
       "      <th>3</th>\n",
       "      <td>1579</td>\n",
       "      <td>1223</td>\n",
       "      <td>Apel</td>\n",
       "      <td>Apel manalagi</td>\n",
       "      <td>1961</td>\n",
       "      <td>38031</td>\n",
       "      <td>Jakarta Pusat</td>\n",
       "    </tr>\n",
       "    <tr>\n",
       "      <th>4</th>\n",
       "      <td>1574</td>\n",
       "      <td>4675</td>\n",
       "      <td>Apel</td>\n",
       "      <td>Apel wanglin</td>\n",
       "      <td>3239</td>\n",
       "      <td>23299</td>\n",
       "      <td>Kab. Bogor</td>\n",
       "    </tr>\n",
       "  </tbody>\n",
       "</table>\n",
       "</div>"
      ],
      "text/plain": [
       "   shop_id  item_id  item         item_name  sold  price (Rp)           city\n",
       "0     1590     3578  Apel       Apel merah   1921       22549     Kab. Bogor\n",
       "1     1968     4327  Apel  Apel rome beauty  2077       36256   Kota Bandung\n",
       "2     1911     2153  Apel         Apel fuji  1971       43525    Kota Malang\n",
       "3     1579     1223  Apel     Apel manalagi  1961       38031  Jakarta Pusat\n",
       "4     1574     4675  Apel      Apel wanglin  3239       23299     Kab. Bogor"
      ]
     },
     "execution_count": 4,
     "metadata": {},
     "output_type": "execute_result"
    }
   ],
   "source": [
    "df_vent.head()"
   ]
  },
  {
   "cell_type": "code",
   "execution_count": 5,
   "metadata": {},
   "outputs": [
    {
     "data": {
      "text/html": [
       "<div>\n",
       "<style scoped>\n",
       "    .dataframe tbody tr th:only-of-type {\n",
       "        vertical-align: middle;\n",
       "    }\n",
       "\n",
       "    .dataframe tbody tr th {\n",
       "        vertical-align: top;\n",
       "    }\n",
       "\n",
       "    .dataframe thead th {\n",
       "        text-align: right;\n",
       "    }\n",
       "</style>\n",
       "<table border=\"1\" class=\"dataframe\">\n",
       "  <thead>\n",
       "    <tr style=\"text-align: right;\">\n",
       "      <th></th>\n",
       "      <th>shop_id</th>\n",
       "      <th>item_id</th>\n",
       "      <th>item</th>\n",
       "      <th>item_name</th>\n",
       "      <th>sold</th>\n",
       "      <th>price (Rp)</th>\n",
       "      <th>city</th>\n",
       "    </tr>\n",
       "  </thead>\n",
       "  <tbody>\n",
       "    <tr>\n",
       "      <th>95</th>\n",
       "      <td>2876</td>\n",
       "      <td>1467</td>\n",
       "      <td>Timun</td>\n",
       "      <td>Timun lokal</td>\n",
       "      <td>1918</td>\n",
       "      <td>10815</td>\n",
       "      <td>Kota Bandung</td>\n",
       "    </tr>\n",
       "    <tr>\n",
       "      <th>96</th>\n",
       "      <td>4787</td>\n",
       "      <td>4070</td>\n",
       "      <td>Timun</td>\n",
       "      <td>Timun lalap</td>\n",
       "      <td>4689</td>\n",
       "      <td>26227</td>\n",
       "      <td>Kota Malang</td>\n",
       "    </tr>\n",
       "    <tr>\n",
       "      <th>97</th>\n",
       "      <td>3949</td>\n",
       "      <td>1467</td>\n",
       "      <td>Timun</td>\n",
       "      <td>Timun jepang</td>\n",
       "      <td>3275</td>\n",
       "      <td>11624</td>\n",
       "      <td>Jakarta Pusat</td>\n",
       "    </tr>\n",
       "    <tr>\n",
       "      <th>98</th>\n",
       "      <td>1621</td>\n",
       "      <td>4974</td>\n",
       "      <td>Timun</td>\n",
       "      <td>Timun suri</td>\n",
       "      <td>614</td>\n",
       "      <td>18556</td>\n",
       "      <td>Kab. Bogor</td>\n",
       "    </tr>\n",
       "    <tr>\n",
       "      <th>99</th>\n",
       "      <td>2736</td>\n",
       "      <td>4267</td>\n",
       "      <td>Timun</td>\n",
       "      <td>Timun mini</td>\n",
       "      <td>3009</td>\n",
       "      <td>24209</td>\n",
       "      <td>Kota Bandung</td>\n",
       "    </tr>\n",
       "  </tbody>\n",
       "</table>\n",
       "</div>"
      ],
      "text/plain": [
       "    shop_id  item_id   item     item_name  sold  price (Rp)           city\n",
       "95     2876     1467  Timun   Timun lokal  1918       10815   Kota Bandung\n",
       "96     4787     4070  Timun   Timun lalap  4689       26227    Kota Malang\n",
       "97     3949     1467  Timun  Timun jepang  3275       11624  Jakarta Pusat\n",
       "98     1621     4974  Timun    Timun suri   614       18556     Kab. Bogor\n",
       "99     2736     4267  Timun    Timun mini  3009       24209   Kota Bandung"
      ]
     },
     "execution_count": 5,
     "metadata": {},
     "output_type": "execute_result"
    }
   ],
   "source": [
    "df_vent.tail()"
   ]
  },
  {
   "cell_type": "code",
   "execution_count": 6,
   "metadata": {},
   "outputs": [
    {
     "name": "stdout",
     "output_type": "stream",
     "text": [
      "<class 'pandas.core.frame.DataFrame'>\n",
      "RangeIndex: 100 entries, 0 to 99\n",
      "Data columns (total 7 columns):\n",
      " #   Column      Non-Null Count  Dtype \n",
      "---  ------      --------------  ----- \n",
      " 0   shop_id     100 non-null    int64 \n",
      " 1   item_id     100 non-null    int64 \n",
      " 2   item        100 non-null    object\n",
      " 3   item_name   100 non-null    object\n",
      " 4   sold        100 non-null    int64 \n",
      " 5   price (Rp)  100 non-null    int64 \n",
      " 6   city        100 non-null    object\n",
      "dtypes: int64(4), object(3)\n",
      "memory usage: 5.6+ KB\n"
     ]
    }
   ],
   "source": [
    "df_vent.info()"
   ]
  },
  {
   "cell_type": "code",
   "execution_count": 8,
   "metadata": {},
   "outputs": [
    {
     "data": {
      "text/plain": [
       "array(['Kab. Bogor', 'Kota Bandung', 'Kota Malang', 'Jakarta Pusat'],\n",
       "      dtype=object)"
      ]
     },
     "execution_count": 8,
     "metadata": {},
     "output_type": "execute_result"
    }
   ],
   "source": [
    "df_vent[\"city\"].unique()"
   ]
  },
  {
   "cell_type": "code",
   "execution_count": 9,
   "metadata": {},
   "outputs": [
    {
     "data": {
      "text/plain": [
       "shop_id        98\n",
       "item_id        98\n",
       "item           10\n",
       "item_name      76\n",
       "sold          100\n",
       "price (Rp)    100\n",
       "city            4\n",
       "dtype: int64"
      ]
     },
     "execution_count": 9,
     "metadata": {},
     "output_type": "execute_result"
    }
   ],
   "source": [
    "df_vent.nunique()"
   ]
  },
  {
   "cell_type": "code",
   "execution_count": null,
   "metadata": {},
   "outputs": [],
   "source": []
  }
 ],
 "metadata": {
  "kernelspec": {
   "display_name": "Diplomado",
   "language": "python",
   "name": "python3"
  },
  "language_info": {
   "codemirror_mode": {
    "name": "ipython",
    "version": 3
   },
   "file_extension": ".py",
   "mimetype": "text/x-python",
   "name": "python",
   "nbconvert_exporter": "python",
   "pygments_lexer": "ipython3",
   "version": "3.10.14"
  }
 },
 "nbformat": 4,
 "nbformat_minor": 2
}
